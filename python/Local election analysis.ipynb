{
 "cells": [
  {
   "cell_type": "code",
   "execution_count": 1,
   "metadata": {},
   "outputs": [],
   "source": [
    "import pandas as pd\n",
    "import numpy as np\n",
    "import pystan\n",
    "from matplotlib import pyplot as plt\n",
    "plt.style.use('fr_sparse')"
   ]
  },
  {
   "cell_type": "markdown",
   "metadata": {},
   "source": [
    "## Vote shares by authority in the 2018, 2014, 2012 and 2011 local elections"
   ]
  },
  {
   "cell_type": "code",
   "execution_count": 2,
   "metadata": {},
   "outputs": [
    {
     "data": {
      "text/html": [
       "<div>\n",
       "<style scoped>\n",
       "    .dataframe tbody tr th:only-of-type {\n",
       "        vertical-align: middle;\n",
       "    }\n",
       "\n",
       "    .dataframe tbody tr th {\n",
       "        vertical-align: top;\n",
       "    }\n",
       "\n",
       "    .dataframe thead th {\n",
       "        text-align: right;\n",
       "    }\n",
       "</style>\n",
       "<table border=\"1\" class=\"dataframe\">\n",
       "  <thead>\n",
       "    <tr style=\"text-align: right;\">\n",
       "      <th></th>\n",
       "      <th>party</th>\n",
       "      <th>conservative</th>\n",
       "      <th>green</th>\n",
       "      <th>labour</th>\n",
       "      <th>libdem</th>\n",
       "      <th>other</th>\n",
       "      <th>ukip</th>\n",
       "      <th>lab_2p</th>\n",
       "    </tr>\n",
       "    <tr>\n",
       "      <th>year</th>\n",
       "      <th>council</th>\n",
       "      <th></th>\n",
       "      <th></th>\n",
       "      <th></th>\n",
       "      <th></th>\n",
       "      <th></th>\n",
       "      <th></th>\n",
       "      <th></th>\n",
       "    </tr>\n",
       "  </thead>\n",
       "  <tbody>\n",
       "    <tr>\n",
       "      <th rowspan=\"5\" valign=\"top\">2011</th>\n",
       "      <th>allerdale</th>\n",
       "      <td>0.191998</td>\n",
       "      <td>0.020106</td>\n",
       "      <td>0.523311</td>\n",
       "      <td>0.024760</td>\n",
       "      <td>0.239824</td>\n",
       "      <td>0.000000</td>\n",
       "      <td>0.731587</td>\n",
       "    </tr>\n",
       "    <tr>\n",
       "      <th>amber valley</th>\n",
       "      <td>0.476249</td>\n",
       "      <td>0.025643</td>\n",
       "      <td>0.385513</td>\n",
       "      <td>0.045206</td>\n",
       "      <td>0.067389</td>\n",
       "      <td>0.000000</td>\n",
       "      <td>0.447355</td>\n",
       "    </tr>\n",
       "    <tr>\n",
       "      <th>arun</th>\n",
       "      <td>0.611590</td>\n",
       "      <td>0.000000</td>\n",
       "      <td>0.126665</td>\n",
       "      <td>0.176513</td>\n",
       "      <td>0.036395</td>\n",
       "      <td>0.048837</td>\n",
       "      <td>0.171573</td>\n",
       "    </tr>\n",
       "    <tr>\n",
       "      <th>ashfield</th>\n",
       "      <td>0.111657</td>\n",
       "      <td>0.008944</td>\n",
       "      <td>0.452936</td>\n",
       "      <td>0.256003</td>\n",
       "      <td>0.167465</td>\n",
       "      <td>0.002995</td>\n",
       "      <td>0.802235</td>\n",
       "    </tr>\n",
       "    <tr>\n",
       "      <th>ashford</th>\n",
       "      <td>0.468302</td>\n",
       "      <td>0.024342</td>\n",
       "      <td>0.105387</td>\n",
       "      <td>0.104058</td>\n",
       "      <td>0.279617</td>\n",
       "      <td>0.018294</td>\n",
       "      <td>0.183701</td>\n",
       "    </tr>\n",
       "  </tbody>\n",
       "</table>\n",
       "</div>"
      ],
      "text/plain": [
       "party              conservative     green    labour    libdem     other  \\\n",
       "year council                                                              \n",
       "2011 allerdale         0.191998  0.020106  0.523311  0.024760  0.239824   \n",
       "     amber valley      0.476249  0.025643  0.385513  0.045206  0.067389   \n",
       "     arun              0.611590  0.000000  0.126665  0.176513  0.036395   \n",
       "     ashfield          0.111657  0.008944  0.452936  0.256003  0.167465   \n",
       "     ashford           0.468302  0.024342  0.105387  0.104058  0.279617   \n",
       "\n",
       "party                  ukip    lab_2p  \n",
       "year council                           \n",
       "2011 allerdale     0.000000  0.731587  \n",
       "     amber valley  0.000000  0.447355  \n",
       "     arun          0.048837  0.171573  \n",
       "     ashfield      0.002995  0.802235  \n",
       "     ashford       0.018294  0.183701  "
      ]
     },
     "execution_count": 2,
     "metadata": {},
     "output_type": "execute_result"
    }
   ],
   "source": [
    "def proportionise(df):\n",
    "    return df.div(df.sum(axis=1), axis=0)\n",
    "\n",
    "url_2018 = \"https://candidates.democracyclub.org.uk/media/csv-archives/results-2018-05-03.csv\"\n",
    "at_url = \"http://www.andrewteale.me.uk/pdf/{0}/{0}_results.zip\"\n",
    "at_colnames = ['ward', 'council', 'candidate', 'party_at', 'votes', 'elected']\n",
    "dc_ballot_colnames = ['election_type', 'council', 'ward', 'date', '???']\n",
    "final_colnames = ['council', 'ward', 'year', 'party', 'votes']\n",
    "\n",
    "at_party_names = {\n",
    "    'Lab': 'labour',\n",
    "    'C': 'conservative',\n",
    "    'LD': 'libdem',\n",
    "    'UKIP': 'ukip',\n",
    "    'Grn': 'green'\n",
    "}\n",
    "dc_party_names = {\n",
    "    'Labour Party': 'labour',\n",
    "    'Labour and Co-operative Party': 'labour',\n",
    "    'Conservative and Unionist Party': 'conservative',\n",
    "    'Liberal Democrats': 'libdem',\n",
    "    'UK Independence Party (UKIP)': 'ukip',\n",
    "    'Green Party': 'green'\n",
    "}\n",
    "\n",
    "results_2018 = pd.read_csv(url_2018, header=1).assign(year=2018)\n",
    "info_2018 = pd.DataFrame.from_records(results_2018['ballot_paper_id'].str.split('.').tolist())\n",
    "info_2018.columns = dc_ballot_colnames\n",
    "info_2018['council'] = info_2018['council'].str.replace('-', ' ')\n",
    "info_2018['ward'] = info_2018['ward'].str.replace('-', ' ')\n",
    "\n",
    "results_2018 = results_2018.join(info_2018).loc[lambda df: df['election_type'] == 'local']\n",
    "results_2018['party'] = results_2018['party_name'].map(dc_party_names).fillna('other')\n",
    "results_2018['votes'] = results_2018['ballots_cast'].astype(int)\n",
    "results_2018['candidate'] = results_2018['person_name']\n",
    "\n",
    "results_at = pd.concat([\n",
    "    pd.read_csv(at_url.format(str(year)), header=None, names=at_colnames, skiprows=None if year != 2014 else 1)\n",
    "    .assign(year=year,\n",
    "            party=lambda df: df['party_at'].map(at_party_names).fillna('other'),\n",
    "            ward=lambda df: df['ward'].str.lower(),\n",
    "            council=lambda df: df['council'].str.lower(),\n",
    "            votes=lambda df: df['votes'].astype(int))\n",
    "    for year in [2011, 2012, 2014]\n",
    "])\n",
    "\n",
    "results = pd.concat([results_at[final_colnames], results_2018[final_colnames]])\n",
    "vote_shares = results.groupby(['year', 'council', 'party'])['votes'].sum().unstack().pipe(proportionise).fillna(0)\n",
    "vote_shares['lab_2p'] = vote_shares['labour'] / (vote_shares['labour'] + vote_shares['conservative'])\n",
    "\n",
    "vote_shares.head()"
   ]
  },
  {
   "cell_type": "code",
   "execution_count": 3,
   "metadata": {},
   "outputs": [],
   "source": [
    "vote_shares.reset_index().to_csv(\"~/Downloads/vote_shares.csv\")"
   ]
  },
  {
   "cell_type": "markdown",
   "metadata": {},
   "source": [
    "## Change in vote share 2014-2018 by party (where available)"
   ]
  },
  {
   "cell_type": "code",
   "execution_count": 4,
   "metadata": {},
   "outputs": [
    {
     "data": {
      "text/html": [
       "<div>\n",
       "<style scoped>\n",
       "    .dataframe tbody tr th:only-of-type {\n",
       "        vertical-align: middle;\n",
       "    }\n",
       "\n",
       "    .dataframe tbody tr th {\n",
       "        vertical-align: top;\n",
       "    }\n",
       "\n",
       "    .dataframe thead th {\n",
       "        text-align: right;\n",
       "    }\n",
       "</style>\n",
       "<table border=\"1\" class=\"dataframe\">\n",
       "  <thead>\n",
       "    <tr style=\"text-align: right;\">\n",
       "      <th>party</th>\n",
       "      <th>conservative_change</th>\n",
       "      <th>green_change</th>\n",
       "      <th>labour_change</th>\n",
       "      <th>libdem_change</th>\n",
       "      <th>other_change</th>\n",
       "      <th>ukip_change</th>\n",
       "      <th>lab_2p_change</th>\n",
       "    </tr>\n",
       "    <tr>\n",
       "      <th>council</th>\n",
       "      <th></th>\n",
       "      <th></th>\n",
       "      <th></th>\n",
       "      <th></th>\n",
       "      <th></th>\n",
       "      <th></th>\n",
       "      <th></th>\n",
       "    </tr>\n",
       "  </thead>\n",
       "  <tbody>\n",
       "    <tr>\n",
       "      <th>worthing</th>\n",
       "      <td>0.097181</td>\n",
       "      <td>-0.065266</td>\n",
       "      <td>0.227648</td>\n",
       "      <td>0.007908</td>\n",
       "      <td>0.000000</td>\n",
       "      <td>-0.267470</td>\n",
       "      <td>0.184585</td>\n",
       "    </tr>\n",
       "    <tr>\n",
       "      <th>adur</th>\n",
       "      <td>0.071782</td>\n",
       "      <td>0.022573</td>\n",
       "      <td>0.193580</td>\n",
       "      <td>-0.038967</td>\n",
       "      <td>0.004814</td>\n",
       "      <td>-0.253782</td>\n",
       "      <td>0.149107</td>\n",
       "    </tr>\n",
       "    <tr>\n",
       "      <th>tunbridge wells</th>\n",
       "      <td>-0.028687</td>\n",
       "      <td>-0.016725</td>\n",
       "      <td>0.080279</td>\n",
       "      <td>0.089568</td>\n",
       "      <td>0.103472</td>\n",
       "      <td>-0.227908</td>\n",
       "      <td>0.106738</td>\n",
       "    </tr>\n",
       "    <tr>\n",
       "      <th>newham</th>\n",
       "      <td>-0.087681</td>\n",
       "      <td>0.021565</td>\n",
       "      <td>0.085869</td>\n",
       "      <td>0.018239</td>\n",
       "      <td>-0.024492</td>\n",
       "      <td>-0.013500</td>\n",
       "      <td>0.097174</td>\n",
       "    </tr>\n",
       "    <tr>\n",
       "      <th>west oxfordshire</th>\n",
       "      <td>-0.038830</td>\n",
       "      <td>-0.021203</td>\n",
       "      <td>0.078158</td>\n",
       "      <td>0.108583</td>\n",
       "      <td>0.000424</td>\n",
       "      <td>-0.127133</td>\n",
       "      <td>0.093803</td>\n",
       "    </tr>\n",
       "  </tbody>\n",
       "</table>\n",
       "</div>"
      ],
      "text/plain": [
       "party             conservative_change  green_change  labour_change  \\\n",
       "council                                                              \n",
       "worthing                     0.097181     -0.065266       0.227648   \n",
       "adur                         0.071782      0.022573       0.193580   \n",
       "tunbridge wells             -0.028687     -0.016725       0.080279   \n",
       "newham                      -0.087681      0.021565       0.085869   \n",
       "west oxfordshire            -0.038830     -0.021203       0.078158   \n",
       "\n",
       "party             libdem_change  other_change  ukip_change  lab_2p_change  \n",
       "council                                                                    \n",
       "worthing               0.007908      0.000000    -0.267470       0.184585  \n",
       "adur                  -0.038967      0.004814    -0.253782       0.149107  \n",
       "tunbridge wells        0.089568      0.103472    -0.227908       0.106738  \n",
       "newham                 0.018239     -0.024492    -0.013500       0.097174  \n",
       "west oxfordshire       0.108583      0.000424    -0.127133       0.093803  "
      ]
     },
     "metadata": {},
     "output_type": "display_data"
    },
    {
     "data": {
      "text/plain": [
       "<matplotlib.text.Text at 0x10d5dcc18>"
      ]
     },
     "execution_count": 4,
     "metadata": {},
     "output_type": "execute_result"
    },
    {
     "data": {
      "image/png": "[encoded data removed]",
      "text/plain": [
       "<matplotlib.figure.Figure at 0x10bdc27b8>"
      ]
     },
     "metadata": {},
     "output_type": "display_data"
    }
   ],
   "source": [
    "both = vote_shares.loc[2014:2018].unstack(level=0).dropna().stack().swaplevel().sort_index()\n",
    "vote_share_change = (both.loc[2018] - both.loc[2014]).add_suffix(\"_change\")\n",
    "display(vote_share_change.sort_values('lab_2p_change', ascending=False).head())\n",
    "hist = plt.hist(vote_share_change['lab_2p_change'], bins=15)\n",
    "plt.xlabel(\"Change in Labour share of Lab/Con vote 2014-2018\")\n",
    "plt.ylabel(\"Frequency\")"
   ]
  },
  {
   "cell_type": "code",
   "execution_count": 5,
   "metadata": {},
   "outputs": [],
   "source": [
    "vote_share_change.to_csv(\"~/Downloads/vote_share_change_2014_2018.csv\")"
   ]
  },
  {
   "cell_type": "markdown",
   "metadata": {},
   "source": [
    "## Median annual pay 2012-2017"
   ]
  },
  {
   "cell_type": "code",
   "execution_count": 6,
   "metadata": {},
   "outputs": [
    {
     "name": "stderr",
     "output_type": "stream",
     "text": [
      "/Users/teddy/.pyenv/versions/3.6.0/lib/python3.6/site-packages/IPython/core/interactiveshell.py:2728: DtypeWarning: Columns (0) have mixed types. Specify dtype option on import or set low_memory=False.\n",
      "  interactivity=interactivity, compiler=compiler, result=result)\n"
     ]
    },
    {
     "data": {
      "text/html": [
       "<div>\n",
       "<style scoped>\n",
       "    .dataframe tbody tr th:only-of-type {\n",
       "        vertical-align: middle;\n",
       "    }\n",
       "\n",
       "    .dataframe tbody tr th {\n",
       "        vertical-align: top;\n",
       "    }\n",
       "\n",
       "    .dataframe thead th {\n",
       "        text-align: right;\n",
       "    }\n",
       "</style>\n",
       "<table border=\"1\" class=\"dataframe\">\n",
       "  <thead>\n",
       "    <tr style=\"text-align: right;\">\n",
       "      <th>Time</th>\n",
       "      <th>2012</th>\n",
       "      <th>2013</th>\n",
       "      <th>2014</th>\n",
       "      <th>2015</th>\n",
       "      <th>2016</th>\n",
       "      <th>2017</th>\n",
       "    </tr>\n",
       "    <tr>\n",
       "      <th>authority</th>\n",
       "      <th></th>\n",
       "      <th></th>\n",
       "      <th></th>\n",
       "      <th></th>\n",
       "      <th></th>\n",
       "      <th></th>\n",
       "    </tr>\n",
       "  </thead>\n",
       "  <tbody>\n",
       "    <tr>\n",
       "      <th>great yarmouth</th>\n",
       "      <td>17598</td>\n",
       "      <td>18357</td>\n",
       "      <td>17813</td>\n",
       "      <td>17445</td>\n",
       "      <td>18502</td>\n",
       "      <td>17415</td>\n",
       "    </tr>\n",
       "    <tr>\n",
       "      <th>craven</th>\n",
       "      <td>19135</td>\n",
       "      <td>18340</td>\n",
       "      <td>17629</td>\n",
       "      <td>20046</td>\n",
       "      <td>18372</td>\n",
       "      <td>17469</td>\n",
       "    </tr>\n",
       "    <tr>\n",
       "      <th>north east lincolnshire</th>\n",
       "      <td>19445</td>\n",
       "      <td>18314</td>\n",
       "      <td>18222</td>\n",
       "      <td>18171</td>\n",
       "      <td>19151</td>\n",
       "      <td>18310</td>\n",
       "    </tr>\n",
       "    <tr>\n",
       "      <th>blackburn with darwen</th>\n",
       "      <td>16959</td>\n",
       "      <td>18099</td>\n",
       "      <td>17436</td>\n",
       "      <td>18393</td>\n",
       "      <td>19295</td>\n",
       "      <td>19191</td>\n",
       "    </tr>\n",
       "    <tr>\n",
       "      <th>hyndburn</th>\n",
       "      <td>17609</td>\n",
       "      <td>17913</td>\n",
       "      <td>17637</td>\n",
       "      <td>19867</td>\n",
       "      <td>20259</td>\n",
       "      <td>19556</td>\n",
       "    </tr>\n",
       "  </tbody>\n",
       "</table>\n",
       "</div>"
      ],
      "text/plain": [
       "Time                      2012   2013   2014   2015   2016   2017\n",
       "authority                                                        \n",
       "great yarmouth           17598  18357  17813  17445  18502  17415\n",
       "craven                   19135  18340  17629  20046  18372  17469\n",
       "north east lincolnshire  19445  18314  18222  18171  19151  18310\n",
       "blackburn with darwen    16959  18099  17436  18393  19295  19191\n",
       "hyndburn                 17609  17913  17637  19867  20259  19556"
      ]
     },
     "execution_count": 6,
     "metadata": {},
     "output_type": "execute_result"
    }
   ],
   "source": [
    "earnings = (\n",
    "    # download the very big csv from here: https://download.beta.ons.gov.uk/downloads/datasets/ashe-table-8-earnings/editions/time-series/versions/1.csv\n",
    "    # I got a 'permission denied' message from the ons website when I tried to read it with `read_excel` :(\n",
    "    pd.read_csv(\"../data/data_in/earning_data.csv\")\n",
    "    .loc[lambda df: (df['Geography'].str.lower().isin(vote_share_change.index))\n",
    "         & (df['Sex_codelist'] == 'all')\n",
    "         & (df['Statistics_codelist'] == 'median')\n",
    "         & (df['Workingpattern_codelist'] == 'all')\n",
    "         & (df['Earnings'] == 'Annual pay - Gross')]\n",
    "    .assign(authority=lambda df: df['Geography'].str.lower())\n",
    "    .set_index(['authority', 'Time'])['V4_2']\n",
    "    .unstack()\n",
    ")\n",
    "earnings.sort_values(2017, ascending=True).head()"
   ]
  },
  {
   "cell_type": "code",
   "execution_count": 7,
   "metadata": {},
   "outputs": [],
   "source": [
    "earnings.to_csv(\"~/Downloads/median_annual_pay.csv\")"
   ]
  },
  {
   "cell_type": "markdown",
   "metadata": {},
   "source": [
    "## Map of local authorities to regions\n",
    "\n",
    "Useful for hierarchical models..."
   ]
  },
  {
   "cell_type": "code",
   "execution_count": 8,
   "metadata": {},
   "outputs": [
    {
     "data": {
      "text/plain": [
       "authority\n",
       "city of london          london\n",
       "barking and dagenham    london\n",
       "barnet                  london\n",
       "bexley                  london\n",
       "brent                   london\n",
       "Name: region, dtype: object"
      ]
     },
     "execution_count": 8,
     "metadata": {},
     "output_type": "execute_result"
    }
   ],
   "source": [
    "region_lookup_url = \"http://geoportal1-ons.opendata.arcgis.com/datasets/c457af6314f24b20bb5de8fe41e05898_0.csv\"\n",
    "authority_to_region = (\n",
    "    pd.read_csv(region_lookup_url)\n",
    "    .assign(authority=lambda df: df['LAD17NM'].str.lower(),\n",
    "            region=lambda df: df['RGN17NM'].str.lower())\n",
    "    .set_index('authority')\n",
    "    ['region']\n",
    ")\n",
    "authority_to_region.head()"
   ]
  },
  {
   "cell_type": "code",
   "execution_count": 9,
   "metadata": {},
   "outputs": [],
   "source": [
    "authority_to_region.reset_index().to_csv(\"~/Downloads/authority_to_region.csv\")"
   ]
  },
  {
   "cell_type": "markdown",
   "metadata": {},
   "source": [
    "## Housing waiting lists 2010 vs 2017"
   ]
  },
  {
   "cell_type": "code",
   "execution_count": 10,
   "metadata": {},
   "outputs": [],
   "source": [
    "waiting_list_url = \"https://www.gov.uk/government/uploads/system/uploads/attachment_data/file/674350/LT_600.xlsx\"\n",
    "\n",
    "waiting_list = (\n",
    "    pd.read_excel(waiting_list_url, header=0, skiprows=3, usecols=[4, 19, 26])\n",
    "    .dropna()\n",
    "    .rename(columns={'Lower and Single Tier Authority Data': 'authority'})\n",
    "    .assign(authority=lambda df: df['authority'].str.lower())\n",
    "    .set_index('authority')\n",
    "    .replace('..', np.nan)\n",
    "    .astype(float)\n",
    "    .assign(change=lambda df: df[2017] - df[2010],\n",
    "            ratio=lambda df: df[2017] / df[2010])\n",
    "\n",
    ")"
   ]
  },
  {
   "cell_type": "code",
   "execution_count": 11,
   "metadata": {},
   "outputs": [],
   "source": [
    "waiting_list.reset_index().to_csv(\"~/Downloads/housing_waiting_lists_2010_2017\")"
   ]
  },
  {
   "cell_type": "markdown",
   "metadata": {},
   "source": [
    "## Leave vote share in the referendum"
   ]
  },
  {
   "cell_type": "code",
   "execution_count": 12,
   "metadata": {},
   "outputs": [],
   "source": [
    "eu_ref_url = \"https://www.electoralcommission.org.uk/__data/assets/file/0014/212135/EU-referendum-result-data.csv\" \n",
    "\n",
    "leave_vote_share = (\n",
    "    pd.read_csv(eu_ref_url)\n",
    "    .assign(authority=lambda df: df['Area'].str.lower())\n",
    "    .groupby('authority')['Pct_Leave'].first()\n",
    "    .rename('leave_vote_share')\n",
    ")"
   ]
  },
  {
   "cell_type": "code",
   "execution_count": 13,
   "metadata": {},
   "outputs": [],
   "source": [
    "leave_vote_share.reset_index().to_csv(\"~/Downloads/leave_vote_share_by_authority.csv\")"
   ]
  },
  {
   "cell_type": "markdown",
   "metadata": {},
   "source": [
    "## 2016 population estimates by local authority \n",
    "\n",
    "These might be useful for scaling some of the other statistics."
   ]
  },
  {
   "cell_type": "code",
   "execution_count": 14,
   "metadata": {},
   "outputs": [
    {
     "data": {
      "text/plain": [
       "authority\n",
       "birmingham    1124569\n",
       "leeds          781743\n",
       "sheffield      575424\n",
       "cornwall       553687\n",
       "manchester     541263\n",
       "Name: population, dtype: int64"
      ]
     },
     "execution_count": 14,
     "metadata": {},
     "output_type": "execute_result"
    }
   ],
   "source": [
    "# Another access denied - has to be downloaded from here: https://www.ons.gov.uk/peoplepopulationandcommunity/populationandmigration/populationestimates/datasets/wardlevelmidyearpopulationestimatesexperimental\n",
    "population_sheet_path = \"../data/data_in/population_estimates.xls\"\n",
    "\n",
    "population_by_ward = (pd.read_excel(population_sheet_path, sheet_name=\"Mid-2016 Persons\", skiprows=4, header=0)\n",
    "                      .assign(authority=lambda df: df['Local Authority'].str.lower())\n",
    "                      .drop('Local Authority', axis=1))\n",
    "\n",
    "total_population_by_authority = (population_by_ward\n",
    "                                 .groupby('authority')['All Ages'].sum()\n",
    "                                 .astype(int)\n",
    "                                 .rename('population'))\n",
    "total_population_by_authority.sort_values(ascending=False).head()"
   ]
  },
  {
   "cell_type": "code",
   "execution_count": 15,
   "metadata": {},
   "outputs": [],
   "source": [
    "total_population_by_authority.reset_index().to_csv(\"~/Downloads/population_estimate_2016_by_local_authority.csv\")"
   ]
  },
  {
   "cell_type": "code",
   "execution_count": 16,
   "metadata": {},
   "outputs": [
    {
     "data": {
      "text/html": [
       "<div>\n",
       "<style scoped>\n",
       "    .dataframe tbody tr th:only-of-type {\n",
       "        vertical-align: middle;\n",
       "    }\n",
       "\n",
       "    .dataframe tbody tr th {\n",
       "        vertical-align: top;\n",
       "    }\n",
       "\n",
       "    .dataframe thead th {\n",
       "        text-align: right;\n",
       "    }\n",
       "</style>\n",
       "<table border=\"1\" class=\"dataframe\">\n",
       "  <thead>\n",
       "    <tr style=\"text-align: right;\">\n",
       "      <th></th>\n",
       "      <th>conservative_change</th>\n",
       "      <th>green_change</th>\n",
       "      <th>labour_change</th>\n",
       "      <th>libdem_change</th>\n",
       "      <th>other_change</th>\n",
       "      <th>ukip_change</th>\n",
       "      <th>lab_2p_change</th>\n",
       "      <th>waiting_list_2010</th>\n",
       "      <th>waiting_list_2017</th>\n",
       "      <th>waiting_list_change</th>\n",
       "      <th>...</th>\n",
       "      <th>population</th>\n",
       "      <th>median_income_2012</th>\n",
       "      <th>median_income_2013</th>\n",
       "      <th>median_income_2014</th>\n",
       "      <th>median_income_2015</th>\n",
       "      <th>median_income_2016</th>\n",
       "      <th>median_income_2017</th>\n",
       "      <th>region</th>\n",
       "      <th>leave_vote_share</th>\n",
       "      <th>region_stan</th>\n",
       "    </tr>\n",
       "    <tr>\n",
       "      <th>council</th>\n",
       "      <th></th>\n",
       "      <th></th>\n",
       "      <th></th>\n",
       "      <th></th>\n",
       "      <th></th>\n",
       "      <th></th>\n",
       "      <th></th>\n",
       "      <th></th>\n",
       "      <th></th>\n",
       "      <th></th>\n",
       "      <th></th>\n",
       "      <th></th>\n",
       "      <th></th>\n",
       "      <th></th>\n",
       "      <th></th>\n",
       "      <th></th>\n",
       "      <th></th>\n",
       "      <th></th>\n",
       "      <th></th>\n",
       "      <th></th>\n",
       "      <th></th>\n",
       "    </tr>\n",
       "  </thead>\n",
       "  <tbody>\n",
       "    <tr>\n",
       "      <th>adur</th>\n",
       "      <td>0.071782</td>\n",
       "      <td>0.022573</td>\n",
       "      <td>0.193580</td>\n",
       "      <td>-0.038967</td>\n",
       "      <td>0.004814</td>\n",
       "      <td>-0.253782</td>\n",
       "      <td>0.149107</td>\n",
       "      <td>1603.0</td>\n",
       "      <td>769.0</td>\n",
       "      <td>-834.0</td>\n",
       "      <td>...</td>\n",
       "      <td>63506.0</td>\n",
       "      <td>20004</td>\n",
       "      <td>19257</td>\n",
       "      <td>20788</td>\n",
       "      <td>21377</td>\n",
       "      <td>20611</td>\n",
       "      <td>20312</td>\n",
       "      <td>south east</td>\n",
       "      <td>54.57</td>\n",
       "      <td>1</td>\n",
       "    </tr>\n",
       "    <tr>\n",
       "      <th>amber valley</th>\n",
       "      <td>0.162960</td>\n",
       "      <td>0.057917</td>\n",
       "      <td>0.033526</td>\n",
       "      <td>0.008095</td>\n",
       "      <td>-0.009576</td>\n",
       "      <td>-0.252923</td>\n",
       "      <td>-0.084903</td>\n",
       "      <td>2639.0</td>\n",
       "      <td>2324.0</td>\n",
       "      <td>-315.0</td>\n",
       "      <td>...</td>\n",
       "      <td>124645.0</td>\n",
       "      <td>20676</td>\n",
       "      <td>21842</td>\n",
       "      <td>22154</td>\n",
       "      <td>21380</td>\n",
       "      <td>22780</td>\n",
       "      <td>23361</td>\n",
       "      <td>east midlands</td>\n",
       "      <td>60.28</td>\n",
       "      <td>2</td>\n",
       "    </tr>\n",
       "    <tr>\n",
       "      <th>barking and dagenham</th>\n",
       "      <td>0.124015</td>\n",
       "      <td>-0.010849</td>\n",
       "      <td>0.075145</td>\n",
       "      <td>-0.016585</td>\n",
       "      <td>-0.017304</td>\n",
       "      <td>-0.154422</td>\n",
       "      <td>-0.099980</td>\n",
       "      <td>11376.0</td>\n",
       "      <td>6795.0</td>\n",
       "      <td>-4581.0</td>\n",
       "      <td>...</td>\n",
       "      <td>206460.0</td>\n",
       "      <td>23975</td>\n",
       "      <td>24920</td>\n",
       "      <td>23228</td>\n",
       "      <td>23901</td>\n",
       "      <td>23601</td>\n",
       "      <td>24593</td>\n",
       "      <td>london</td>\n",
       "      <td>62.44</td>\n",
       "      <td>3</td>\n",
       "    </tr>\n",
       "    <tr>\n",
       "      <th>barnet</th>\n",
       "      <td>0.051622</td>\n",
       "      <td>-0.048938</td>\n",
       "      <td>0.009211</td>\n",
       "      <td>0.010025</td>\n",
       "      <td>-0.001740</td>\n",
       "      <td>-0.020180</td>\n",
       "      <td>-0.023336</td>\n",
       "      <td>15166.0</td>\n",
       "      <td>2683.0</td>\n",
       "      <td>-12483.0</td>\n",
       "      <td>...</td>\n",
       "      <td>386083.0</td>\n",
       "      <td>27299</td>\n",
       "      <td>27435</td>\n",
       "      <td>25785</td>\n",
       "      <td>26099</td>\n",
       "      <td>26000</td>\n",
       "      <td>28160</td>\n",
       "      <td>london</td>\n",
       "      <td>37.77</td>\n",
       "      <td>3</td>\n",
       "    </tr>\n",
       "    <tr>\n",
       "      <th>barnsley</th>\n",
       "      <td>0.051568</td>\n",
       "      <td>0.037507</td>\n",
       "      <td>0.072205</td>\n",
       "      <td>0.092784</td>\n",
       "      <td>-0.106310</td>\n",
       "      <td>-0.147754</td>\n",
       "      <td>-0.030928</td>\n",
       "      <td>7215.0</td>\n",
       "      <td>5472.0</td>\n",
       "      <td>-1743.0</td>\n",
       "      <td>...</td>\n",
       "      <td>241218.0</td>\n",
       "      <td>20072</td>\n",
       "      <td>20376</td>\n",
       "      <td>19925</td>\n",
       "      <td>20573</td>\n",
       "      <td>19886</td>\n",
       "      <td>20541</td>\n",
       "      <td>yorkshire and the humber</td>\n",
       "      <td>68.31</td>\n",
       "      <td>4</td>\n",
       "    </tr>\n",
       "  </tbody>\n",
       "</table>\n",
       "<p>5 rows × 21 columns</p>\n",
       "</div>"
      ],
      "text/plain": [
       "                      conservative_change  green_change  labour_change  \\\n",
       "council                                                                  \n",
       "adur                             0.071782      0.022573       0.193580   \n",
       "amber valley                     0.162960      0.057917       0.033526   \n",
       "barking and dagenham             0.124015     -0.010849       0.075145   \n",
       "barnet                           0.051622     -0.048938       0.009211   \n",
       "barnsley                         0.051568      0.037507       0.072205   \n",
       "\n",
       "                      libdem_change  other_change  ukip_change  lab_2p_change  \\\n",
       "council                                                                         \n",
       "adur                      -0.038967      0.004814    -0.253782       0.149107   \n",
       "amber valley               0.008095     -0.009576    -0.252923      -0.084903   \n",
       "barking and dagenham      -0.016585     -0.017304    -0.154422      -0.099980   \n",
       "barnet                     0.010025     -0.001740    -0.020180      -0.023336   \n",
       "barnsley                   0.092784     -0.106310    -0.147754      -0.030928   \n",
       "\n",
       "                      waiting_list_2010  waiting_list_2017  \\\n",
       "council                                                      \n",
       "adur                             1603.0              769.0   \n",
       "amber valley                     2639.0             2324.0   \n",
       "barking and dagenham            11376.0             6795.0   \n",
       "barnet                          15166.0             2683.0   \n",
       "barnsley                         7215.0             5472.0   \n",
       "\n",
       "                      waiting_list_change     ...       population  \\\n",
       "council                                       ...                    \n",
       "adur                               -834.0     ...          63506.0   \n",
       "amber valley                       -315.0     ...         124645.0   \n",
       "barking and dagenham              -4581.0     ...         206460.0   \n",
       "barnet                           -12483.0     ...         386083.0   \n",
       "barnsley                          -1743.0     ...         241218.0   \n",
       "\n",
       "                      median_income_2012 median_income_2013  \\\n",
       "council                                                       \n",
       "adur                               20004              19257   \n",
       "amber valley                       20676              21842   \n",
       "barking and dagenham               23975              24920   \n",
       "barnet                             27299              27435   \n",
       "barnsley                           20072              20376   \n",
       "\n",
       "                     median_income_2014 median_income_2015 median_income_2016  \\\n",
       "council                                                                         \n",
       "adur                              20788              21377              20611   \n",
       "amber valley                      22154              21380              22780   \n",
       "barking and dagenham              23228              23901              23601   \n",
       "barnet                            25785              26099              26000   \n",
       "barnsley                          19925              20573              19886   \n",
       "\n",
       "                     median_income_2017                    region  \\\n",
       "council                                                             \n",
       "adur                              20312                south east   \n",
       "amber valley                      23361             east midlands   \n",
       "barking and dagenham              24593                    london   \n",
       "barnet                            28160                    london   \n",
       "barnsley                          20541  yorkshire and the humber   \n",
       "\n",
       "                     leave_vote_share  region_stan  \n",
       "council                                             \n",
       "adur                            54.57            1  \n",
       "amber valley                    60.28            2  \n",
       "barking and dagenham            62.44            3  \n",
       "barnet                          37.77            3  \n",
       "barnsley                        68.31            4  \n",
       "\n",
       "[5 rows x 21 columns]"
      ]
     },
     "execution_count": 16,
     "metadata": {},
     "output_type": "execute_result"
    }
   ],
   "source": [
    "def stanify_series(s):\n",
    "    return pd.Series(s.factorize()[0] + 1, index=s.index)\n",
    "\n",
    "# design matrix\n",
    "dm = (\n",
    "    vote_share_change\n",
    "    .join(waiting_list.add_prefix('waiting_list_'), how='left')\n",
    "    .join(total_population_by_authority, how='left')\n",
    "    .join(earnings.add_prefix('median_income_'), how='left')\n",
    "    .join(authority_to_region)\n",
    "    .join(leave_vote_share)\n",
    "    .assign(region_stan=lambda df: stanify_series(df['region']))\n",
    "    .dropna()\n",
    ")\n",
    "dm.head()"
   ]
  },
  {
   "cell_type": "code",
   "execution_count": 17,
   "metadata": {},
   "outputs": [
    {
     "data": {
      "text/plain": [
       "<matplotlib.text.Text at 0x1191fbe80>"
      ]
     },
     "execution_count": 17,
     "metadata": {},
     "output_type": "execute_result"
    },
    {
     "data": {
      "image/png": "[encoded data removed]",
      "text/plain": [
       "<matplotlib.figure.Figure at 0x113714940>"
      ]
     },
     "metadata": {},
     "output_type": "display_data"
    }
   ],
   "source": [
    "f, axes = plt.subplots(3, 2, figsize=[10, 8], sharey=True, sharex=True)\n",
    "axes = axes.ravel()\n",
    "x_col = 'leave_vote_share'\n",
    "\n",
    "f.suptitle(\"Change in local election vote share 2014-2018  vs {}\".format(x_col.replace('_', ' ')))\n",
    "\n",
    "for ax, y_col in zip(axes, ['green_change', 'libdem_change', 'conservative_change', \n",
    "                            'labour_change', 'ukip_change', 'lab_2p_change']):\n",
    "    ax.scatter(dm[x_col], dm[y_col], s=dm['population']/10000)\n",
    "    extremes = (list(dm.sort_values(y_col)[y_col].dropna().iloc[np.r_[0, -1]].index)\n",
    "                + list(dm.sort_values(x_col)[x_col].dropna().iloc[np.r_[0, -1]].index))\n",
    "    for i, r in dm.loc[extremes].iterrows():\n",
    "        if all(np.isfinite(dm.loc[i, [x_col, y_col]].astype(float))):\n",
    "            ax.text(dm.loc[i, x_col], dm.loc[i, y_col], i.capitalize(), fontsize=8)\n",
    "\n",
    "    ax.set_title(y_col.capitalize(), y=0.8)\n",
    "    if ax in [axes[0], axes[2], axes[4]]:\n",
    "        ax.set_ylabel(\"Change in vote share\".format(y_col))\n",
    "axes[4].set_xlabel(\"{}\".format(x_col))\n",
    "axes[5].set_xlabel(\"{}\".format(x_col))\n",
    "# plt.tight_layout()"
   ]
  },
  {
   "cell_type": "code",
   "execution_count": 18,
   "metadata": {},
   "outputs": [
    {
     "data": {
      "text/plain": [
       "<matplotlib.text.Text at 0x1163cf208>"
      ]
     },
     "execution_count": 18,
     "metadata": {},
     "output_type": "execute_result"
    },
    {
     "data": {
      "image/png": "[encoded data removed]",
      "text/plain": [
       "<matplotlib.figure.Figure at 0x117be0a90>"
      ]
     },
     "metadata": {},
     "output_type": "display_data"
    }
   ],
   "source": [
    "t = vote_share_change.join(earnings[2017].rename('earnings')).join(total_population_by_authority)\n",
    "\n",
    "plt.scatter(t['earnings'], t['lab_2p_change'], s=t['population']/10000)\n",
    "extremes = (list(t.sort_values('earnings').dropna().iloc[np.r_[0:4, -4:0]].index)\n",
    "            + list(t.sort_values('lab_2p_change').dropna().iloc[np.r_[0:4, -4:0]].index))\n",
    "for i, r in t.loc[extremes].iterrows():\n",
    "    if all(np.isfinite(t.loc[i, ['earnings', 'lab_2p_change']].astype(float))):\n",
    "        plt.text(t.loc[i, 'earnings'], t.loc[i, 'lab_2p_change'], i, fontsize=8)\n",
    "\n",
    "\n",
    "plt.xlabel(\"Median annual pay\")\n",
    "plt.ylabel(\"Change in labour vote share\")"
   ]
  },
  {
   "cell_type": "code",
   "execution_count": 19,
   "metadata": {},
   "outputs": [
    {
     "data": {
      "text/plain": [
       "<matplotlib.text.Text at 0x1163e1908>"
      ]
     },
     "execution_count": 19,
     "metadata": {},
     "output_type": "execute_result"
    },
    {
     "data": {
      "image/png": "[encoded data removed]",
      "text/plain": [
       "<matplotlib.figure.Figure at 0x11ec13a20>"
      ]
     },
     "metadata": {},
     "output_type": "display_data"
    }
   ],
   "source": [
    "t = vote_share_change.join(waiting_list).join(total_population_by_authority)\n",
    "\n",
    "plt.scatter(t['ratio'], t['labour_change'], s=t['population']/10000)\n",
    "\n",
    "extremes = (list(t.sort_values('ratio').iloc[np.r_[0:4, -4:0]].index)\n",
    "            + list(t.sort_values('labour_change').iloc[np.r_[0:4, -4:0]].index))\n",
    "for i, r in t.loc[extremes].iterrows():\n",
    "    if all(np.isfinite(t.loc[i, ['ratio', 'labour_change']])):\n",
    "        plt.text(t.loc[i, 'ratio'], t.loc[i, 'labour_change'], i, fontsize=8)\n",
    "\n",
    "plt.semilogx()\n",
    "plt.xlabel(\"Housing waitlist 2010 / housing waitlist 2017 (log scale)\")\n",
    "plt.ylabel(\"Change in labour vote share\")"
   ]
  },
  {
   "cell_type": "code",
   "execution_count": 20,
   "metadata": {},
   "outputs": [
    {
     "name": "stderr",
     "output_type": "stream",
     "text": [
      "INFO:pystan:COMPILING THE C++ CODE FOR MODEL anon_model_5daa3b0c2d33b5794e9a2a84452775e5 NOW.\n"
     ]
    }
   ],
   "source": [
    "model = pystan.StanModel(file=\"../stan/model.stan\")"
   ]
  },
  {
   "cell_type": "code",
   "execution_count": null,
   "metadata": {},
   "outputs": [],
   "source": [
    "predictors = ['waiting_list_ratio', 'median_income_2017', 'leave_vote_share']\n",
    "model_input = {\n",
    "    'N': len(dm),\n",
    "    'M': len(predictors),\n",
    "    'R': dm['region'].nunique(),\n",
    "    'x': dm[predictors].astype(float),\n",
    "    'region': dm['region_stan'],\n",
    "    'y': dm['lab_2p_change']\n",
    "}\n",
    "fit = model.sampling(data=model_input, control={'adapt_delta':0.99})\n",
    "samples = fit.to_dataframe()\n",
    "samples.head()"
   ]
  },
  {
   "cell_type": "code",
   "execution_count": null,
   "metadata": {},
   "outputs": [],
   "source": [
    "print(fit.stansummary(pars=[p for p in fit.model_pars \n",
    "                            if p not in ['log_lik', 'y_tilde']\n",
    "                            and 'z' not in p]))"
   ]
  },
  {
   "cell_type": "code",
   "execution_count": null,
   "metadata": {},
   "outputs": [],
   "source": [
    "region_stan_to_region = dm.groupby('region_stan')['region'].first()"
   ]
  },
  {
   "cell_type": "code",
   "execution_count": null,
   "metadata": {},
   "outputs": [],
   "source": [
    "b_samples = samples[[c for c in samples.columns if c[:2] == 'b[']].copy()\n",
    "l = list(map(lambda s: s.strip('b[').strip(']').split(','), b_samples.columns))\n",
    "b_samples.columns = pd.MultiIndex.from_tuples(\n",
    "    [(predictors[int(i) - 1], region_stan_to_region.loc[int(j)]) for [i, j] in l]\n",
    ")\n",
    "print(\"Posterior mean effects by region:\")\n",
    "mean_regression_effects = b_samples.sort_index(axis=1).mean().unstack().T\n",
    "\n",
    "mean_regression_effects.style.highlight_min(axis=0)"
   ]
  },
  {
   "cell_type": "code",
   "execution_count": null,
   "metadata": {},
   "outputs": [],
   "source": [
    "output = dm.copy()\n",
    "ppc_samples = samples[[c for c in samples.columns if 'y_tilde' in c]].copy()\n",
    "log_lik_samples = samples[[c for c in samples.columns if 'log_lik' in c]].copy()\n",
    "output['log_likelihood_mean'] = log_lik_samples.mean().values\n",
    "output['ppc_lower'] = ppc_samples.quantile(0.1).values\n",
    "output['ppc_mean'] = ppc_samples.mean().values\n",
    "output['ppc_upper'] = ppc_samples.quantile(0.9).values\n",
    "log_lik_samples.mean().mean()"
   ]
  },
  {
   "cell_type": "code",
   "execution_count": null,
   "metadata": {},
   "outputs": [],
   "source": [
    "f, ax = plt.subplots(figsize=[12, 8])\n",
    "\n",
    "x_col = 'leave_vote_share'\n",
    "\n",
    "ax.scatter(output[x_col], output['lab_2p_change'], label='observation')\n",
    "ax.vlines(output[x_col], output['ppc_lower'], output['ppc_upper'], \n",
    "          color='tab:orange', zorder=0, alpha=0.6, label='posterior predictive quantiles 10%-90%')\n",
    "ax.axhline(0, color='r', linestyle='--', alpha=0.5)\n",
    "\n",
    "extremes = list(output.sort_values('log_likelihood_mean')[:8].index)\n",
    "for i, r in output.loc[extremes].iterrows():\n",
    "    if all(np.isfinite(output.loc[i, [x_col, 'lab_2p_change']].astype(float))):\n",
    "        plt.text(output.loc[i, x_col], output.loc[i, 'lab_2p_change'], i.capitalize(), fontsize=8)\n",
    "\n",
    "\n",
    "ax.legend(frameon=False)\n",
    "ax.set_xlabel('Leave vote share in the 2016 referendum')\n",
    "ax.set_ylabel('Change in Labour share of Lab/Con vote from 2014 to 2018')\n",
    "ax.set_title('Labour did worse vs Tories in leave-voting areas\\n (Except Adur and Worthing - what happened there??)', fontsize=14)"
   ]
  },
  {
   "cell_type": "code",
   "execution_count": null,
   "metadata": {},
   "outputs": [],
   "source": [
    "f, axes = plt.subplots(3, 3, figsize=[12, 8], sharex=True, sharey=True)\n",
    "f.suptitle(\"The effect was similar across the country\", fontsize=14)\n",
    "\n",
    "axes = axes.ravel()\n",
    "x_col = 'leave_vote_share'\n",
    "\n",
    "for ax, (reg, df) in zip(axes, output.groupby('region')):\n",
    "    ax.scatter(df[x_col], df['lab_2p_change'])\n",
    "    ax.vlines(df[x_col], df['ppc_lower'], df['ppc_upper'], color='tab:orange', zorder=0, alpha=0.6)\n",
    "    ax.axhline(0, color='r', linestyle='--', alpha=0.5)\n",
    "\n",
    "    if ax == axes[3]:\n",
    "        ax.set_ylabel('Change in Labour share of Lab/Con vote')\n",
    "    if ax == axes[7]:\n",
    "        ax.set_xlabel('Leave vote share in the 2016 referendum')\n",
    "    ax.set_title(reg.capitalize(), y=0.8)"
   ]
  },
  {
   "cell_type": "code",
   "execution_count": null,
   "metadata": {},
   "outputs": [],
   "source": [
    "output.loc[lambda df: df['region'] == 'london'].sort_values('leave_vote_share')"
   ]
  },
  {
   "cell_type": "code",
   "execution_count": null,
   "metadata": {},
   "outputs": [],
   "source": [
    "f, ax = plt.subplots(figsize=[12, 8])\n",
    "\n",
    "x_col = 'waiting_list_ratio'\n",
    "\n",
    "ax.scatter(output[x_col], output['lab_2p_change'], label='observation')\n",
    "ax.vlines(output[x_col], output['ppc_lower'], output['ppc_upper'], \n",
    "          color='tab:orange', zorder=0, alpha=0.6, label='posterior predictive quantiles 10%-90%')\n",
    "ax.axhline(0, color='r', linestyle='--', alpha=0.5)\n",
    "\n",
    "extremes = list(output.sort_values('log_likelihood_mean')[:8].index)\n",
    "for i, r in output.loc[extremes].iterrows():\n",
    "    if all(np.isfinite(output.loc[i, [x_col, 'lab_2p_change']].astype(float))):\n",
    "        plt.text(output.loc[i, x_col], output.loc[i, 'lab_2p_change'], i.capitalize(), fontsize=8)\n",
    "\n",
    "\n",
    "ax.legend(frameon=False)\n",
    "ax.set_xlabel('People waiting for housing in 2017 / people waiting in 2010')\n",
    "ax.set_ylabel('Change in Labour share of Lab/Con vote from 2014 to 2018')\n",
    "ax.set_title(\"Changes in local housing waiting lists don't seem to predict changes\\n\"\n",
    "             \"in Conservative/Labour vote share at the national level...\", fontsize=14)\n",
    "\n"
   ]
  },
  {
   "cell_type": "code",
   "execution_count": null,
   "metadata": {},
   "outputs": [],
   "source": [
    "f, axes = plt.subplots(3, 3, figsize=[12, 8], sharex=True, sharey=True)\n",
    "f.suptitle(\"...But there are regional patterns!\", fontsize=14)\n",
    "\n",
    "axes = axes.ravel()\n",
    "x_col = 'waiting_list_ratio'\n",
    "\n",
    "for ax, (reg, df) in zip(axes, output.groupby('region')):\n",
    "    ax.scatter(df[x_col], df['lab_2p_change'])\n",
    "    ax.vlines(df[x_col], df['ppc_lower'], df['ppc_upper'], color='tab:orange', zorder=0, alpha=0.6)\n",
    "    ax.axhline(0, color='r', linestyle='--', alpha=0.5)\n",
    "\n",
    "    ax.semilogx()\n",
    "\n",
    "    if ax == axes[3]:\n",
    "        ax.set_ylabel('Change in Labour share of Lab/Con vote')\n",
    "    if ax == axes[7]:\n",
    "        ax.set_xlabel('People waiting for housing in 2017 / people waiting in 2010 (log scale)')\n",
    "    ax.set_title(reg.capitalize(), y=0.8)"
   ]
  },
  {
   "cell_type": "code",
   "execution_count": null,
   "metadata": {},
   "outputs": [],
   "source": [
    "f, ax = plt.subplots(figsize=[12, 8])\n",
    "\n",
    "x_col = 'median_income_2017'\n",
    "\n",
    "ax.scatter(output[x_col], output['lab_2p_change'], label='observation')\n",
    "ax.vlines(output[x_col], output['ppc_lower'], output['ppc_upper'], \n",
    "          color='tab:orange', zorder=0, alpha=0.6, label='posterior predictive quantiles 10%-90%')\n",
    "ax.axhline(0, color='r', linestyle='--', alpha=0.5)\n",
    "\n",
    "extremes = list(output.sort_values('log_likelihood_mean')[:8].index)\n",
    "for i, r in output.loc[extremes].iterrows():\n",
    "    if all(np.isfinite(output.loc[i, [x_col, 'lab_2p_change']].astype(float))):\n",
    "        plt.text(output.loc[i, x_col], output.loc[i, 'lab_2p_change'], i.capitalize(), fontsize=8)\n",
    "\n",
    "\n",
    "ax.legend(frameon=False)\n",
    "ax.set_xlabel('Median annual income in pounds')\n",
    "ax.set_ylabel('Change in Labour share of Lab/Con vote from 2014 to 2018')\n",
    "ax.set_title(\"Labour tended to get bigger swings from the Tories in richer areas\", fontsize=14)\n",
    "\n"
   ]
  },
  {
   "cell_type": "code",
   "execution_count": null,
   "metadata": {},
   "outputs": [],
   "source": [
    "f, axes = plt.subplots(3, 3, figsize=[12, 8], sharex=True, sharey=True)\n",
    "f.suptitle(\"...the size of the effect varied by region\", fontsize=14)\n",
    "\n",
    "axes = axes.ravel()\n",
    "x_col = 'median_income_2017'\n",
    "\n",
    "for ax, (reg, df) in zip(axes, output.groupby('region')):\n",
    "    ax.scatter(df[x_col], df['lab_2p_change'])\n",
    "    ax.vlines(df[x_col], df['ppc_lower'], df['ppc_upper'], color='tab:orange', zorder=0, alpha=0.6)\n",
    "    ax.axhline(0, color='r', linestyle='--', alpha=0.5)\n",
    "    if ax == axes[3]:\n",
    "        ax.set_ylabel('Change in Labour share of Lab/Con vote')\n",
    "    if ax == axes[7]:\n",
    "        ax.set_xlabel('Median annual income in pounds')\n",
    "    ax.set_title(reg.capitalize(), y=0.8)"
   ]
  }
 ],
 "metadata": {
  "kernelspec": {
   "display_name": "Python 3",
   "language": "python",
   "name": "python3"
  },
  "language_info": {
   "codemirror_mode": {
    "name": "ipython",
    "version": 3
   },
   "file_extension": ".py",
   "mimetype": "text/x-python",
   "name": "python",
   "nbconvert_exporter": "python",
   "pygments_lexer": "ipython3",
   "version": "3.6.0"
  }
 },
 "nbformat": 4,
 "nbformat_minor": 2
}
